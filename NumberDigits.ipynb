{
  "nbformat": 4,
  "nbformat_minor": 0,
  "metadata": {
    "colab": {
      "name": "NumberDigits.ipynb",
      "provenance": [],
      "collapsed_sections": [],
      "authorship_tag": "ABX9TyMqxgA8ewxqmKvTNgpNQkp+",
      "include_colab_link": true
    },
    "kernelspec": {
      "name": "python3",
      "display_name": "Python 3"
    },
    "accelerator": "GPU"
  },
  "cells": [
    {
      "cell_type": "markdown",
      "metadata": {
        "id": "view-in-github",
        "colab_type": "text"
      },
      "source": [
        "<a href=\"https://colab.research.google.com/github/quachthanhhmd/I-learn-DeepLearning/blob/main/NumberDigits.ipynb\" target=\"_parent\"><img src=\"https://colab.research.google.com/assets/colab-badge.svg\" alt=\"Open In Colab\"/></a>"
      ]
    },
    {
      "cell_type": "code",
      "metadata": {
        "id": "MyUFZotCF1C8"
      },
      "source": [
        "from keras.datasets import mnist\n",
        "import matplotlib.pyplot as plt"
      ],
      "execution_count": null,
      "outputs": []
    },
    {
      "cell_type": "code",
      "metadata": {
        "id": "eLNcVk5qIE-C"
      },
      "source": [
        "#load data\n",
        "(X_train,y_train),(X_test,y_test) = mnist.load_data()\n"
      ],
      "execution_count": 52,
      "outputs": []
    },
    {
      "cell_type": "code",
      "metadata": {
        "id": "aGdl2HGNjo-V",
        "outputId": "1c6cb439-2f9c-4e21-ca14-48c86bdb051f",
        "colab": {
          "base_uri": "https://localhost:8080/",
          "height": 265
        }
      },
      "source": [
        "\n",
        "\n",
        "plt.imshow(X_train[y_train == 9][0])"
      ],
      "execution_count": 54,
      "outputs": [
        {
          "output_type": "display_data",
          "data": {
            "image/png": "[encoded data removed]",
            "text/plain": [
              "<Figure size 432x288 with 1 Axes>"
            ]
          },
          "metadata": {
            "tags": [],
            "needs_background": "light"
          }
        }
      ]
    },
    {
      "cell_type": "code",
      "metadata": {
        "id": "8coF4ilwIEoT"
      },
      "source": [
        "#build model\n",
        "learning_rate =  0.01\n",
        "num_step = 50\n",
        "batch_size = 128\n",
        "n_hidden_1 = 256 # 1st layer number of neurons - hidden layer 1\n",
        "n_hidden_2 = 128 # 2nd layer number of neurons - hideen layer 2\n",
        "num_classes = 10 # 0- 9\n",
        "input_shape = 28*28 #  (shape: 28*28)\n",
        "\n"
      ],
      "execution_count": null,
      "outputs": []
    },
    {
      "cell_type": "code",
      "metadata": {
        "id": "jX2clk40GkFR",
        "outputId": "aac13fb4-1dbc-45cb-e3e5-7bd6ef961a20",
        "colab": {
          "base_uri": "https://localhost:8080/",
          "height": 323
        }
      },
      "source": [
        "import tensorflow as tf\n",
        "from tensorflow.keras.models import Sequential\n",
        "from tensorflow.keras.layers import Dense, Flatten, Conv2D, MaxPooling2D\n",
        "\n",
        "\n",
        "\n",
        "# Khởi tạo model\n",
        "model = tf.keras.Sequential()\n",
        "\n",
        "\n",
        "# lớp tích chập + Activation: relu\n",
        "model.add(Conv2D(32, (3, 3), activation='relu', input_shape=(28, 28, 1)))\n",
        "\n",
        "# lớp Max Pooling\n",
        "model.add(MaxPooling2D(2,2))\n",
        "\n",
        "# lớp duỗi\n",
        "model.add(Flatten())\n",
        "\n",
        "# lớp Dense 128 + lớp Activation: relu\n",
        "model.add(Dense(128, activation='relu'))\n",
        "\n",
        "# lớp Dense 10 + lớp Activation: Softmax\n",
        "model.add(Dense(num_classes, activation='softmax'))\n",
        "\n",
        "# Chú ý thêm lớp Activation Softmax\n",
        "# Kiểm tra lại mô hình\n",
        "\n",
        "model.summary()\n",
        "\n"
      ],
      "execution_count": null,
      "outputs": [
        {
          "output_type": "stream",
          "text": [
            "Model: \"sequential_1\"\n",
            "_________________________________________________________________\n",
            "Layer (type)                 Output Shape              Param #   \n",
            "=================================================================\n",
            "conv2d_1 (Conv2D)            (None, 26, 26, 32)        320       \n",
            "_________________________________________________________________\n",
            "max_pooling2d_1 (MaxPooling2 (None, 13, 13, 32)        0         \n",
            "_________________________________________________________________\n",
            "flatten_1 (Flatten)          (None, 5408)              0         \n",
            "_________________________________________________________________\n",
            "dense_2 (Dense)              (None, 128)               692352    \n",
            "_________________________________________________________________\n",
            "dense_3 (Dense)              (None, 10)                1290      \n",
            "=================================================================\n",
            "Total params: 693,962\n",
            "Trainable params: 693,962\n",
            "Non-trainable params: 0\n",
            "_________________________________________________________________\n"
          ],
          "name": "stdout"
        }
      ]
    },
    {
      "cell_type": "code",
      "metadata": {
        "id": "DIocrYYgdJF0"
      },
      "source": [
        "X_train = X_train.reshape(60000, 28, 28, 1)# chuan hoa thanh 4 chieu theo model"
      ],
      "execution_count": 44,
      "outputs": []
    },
    {
      "cell_type": "code",
      "metadata": {
        "id": "fVnCJLkDdxRe"
      },
      "source": [
        "#tuong tu voi tap test\n",
        "\n",
        "X_test = X_test.reshape(X_test.shape[0], 28, 28, 1)# chuan hoa thanh 4 chieu theo model"
      ],
      "execution_count": 45,
      "outputs": []
    },
    {
      "cell_type": "code",
      "metadata": {
        "id": "koZaA0a2fDmj",
        "outputId": "f51cd1e9-4ff5-4c5a-df19-8ad15c16cce6",
        "colab": {
          "base_uri": "https://localhost:8080/",
          "height": 34
        }
      },
      "source": [
        "X_train.shape"
      ],
      "execution_count": 46,
      "outputs": [
        {
          "output_type": "execute_result",
          "data": {
            "text/plain": [
              "(60000, 28, 28, 1)"
            ]
          },
          "metadata": {
            "tags": []
          },
          "execution_count": 46
        }
      ]
    },
    {
      "cell_type": "code",
      "metadata": {
        "id": "1xnP_bpJfH3i",
        "outputId": "f25c7767-280a-4a4d-e9a7-f51e9d9de10a",
        "colab": {
          "base_uri": "https://localhost:8080/",
          "height": 34
        }
      },
      "source": [
        "X_test.shape, y_test.shape"
      ],
      "execution_count": 47,
      "outputs": [
        {
          "output_type": "execute_result",
          "data": {
            "text/plain": [
              "((10000, 28, 28, 1), (10000,))"
            ]
          },
          "metadata": {
            "tags": []
          },
          "execution_count": 47
        }
      ]
    },
    {
      "cell_type": "code",
      "metadata": {
        "id": "2mUSm7A_RdBX",
        "outputId": "587d942c-67ec-4a4c-cfce-347e091e5571",
        "colab": {
          "base_uri": "https://localhost:8080/",
          "height": 1000
        }
      },
      "source": [
        "# Thêm một hàm tối ưu cho model\n",
        "\n",
        "model.compile(loss= 'sparse_categorical_crossentropy',\n",
        "              optimizer = 'adam',\n",
        "              metrics=['accuracy'])\n",
        "\n",
        "# Tiến hành training\n",
        "\n",
        "model.fit(X_train, y_train, epochs=num_step, validation_data= (X_test, y_test))"
      ],
      "execution_count": 48,
      "outputs": [
        {
          "output_type": "stream",
          "text": [
            "Epoch 1/50\n",
            "1875/1875 [==============================] - 5s 3ms/step - loss: 0.0015 - accuracy: 0.9997 - val_loss: 0.1195 - val_accuracy: 0.9888\n",
            "Epoch 2/50\n",
            "1875/1875 [==============================] - 5s 3ms/step - loss: 6.9854e-04 - accuracy: 0.9998 - val_loss: 0.1212 - val_accuracy: 0.9881\n",
            "Epoch 3/50\n",
            "1875/1875 [==============================] - 5s 3ms/step - loss: 0.0011 - accuracy: 0.9998 - val_loss: 0.1055 - val_accuracy: 0.9890\n",
            "Epoch 4/50\n",
            "1875/1875 [==============================] - 5s 2ms/step - loss: 3.3786e-06 - accuracy: 1.0000 - val_loss: 0.1021 - val_accuracy: 0.9896\n",
            "Epoch 5/50\n",
            "1875/1875 [==============================] - 5s 3ms/step - loss: 4.6897e-07 - accuracy: 1.0000 - val_loss: 0.1022 - val_accuracy: 0.9894\n",
            "Epoch 6/50\n",
            "1875/1875 [==============================] - 5s 2ms/step - loss: 2.6039e-07 - accuracy: 1.0000 - val_loss: 0.1022 - val_accuracy: 0.9894\n",
            "Epoch 7/50\n",
            "1875/1875 [==============================] - 5s 3ms/step - loss: 1.4963e-07 - accuracy: 1.0000 - val_loss: 0.1026 - val_accuracy: 0.9895\n",
            "Epoch 8/50\n",
            "1875/1875 [==============================] - 5s 3ms/step - loss: 8.2887e-08 - accuracy: 1.0000 - val_loss: 0.1031 - val_accuracy: 0.9893\n",
            "Epoch 9/50\n",
            "1875/1875 [==============================] - 5s 3ms/step - loss: 4.3352e-08 - accuracy: 1.0000 - val_loss: 0.1044 - val_accuracy: 0.9895\n",
            "Epoch 10/50\n",
            "1875/1875 [==============================] - 5s 3ms/step - loss: 2.3037e-08 - accuracy: 1.0000 - val_loss: 0.1060 - val_accuracy: 0.9897\n",
            "Epoch 11/50\n",
            "1875/1875 [==============================] - 5s 2ms/step - loss: 1.1923e-08 - accuracy: 1.0000 - val_loss: 0.1081 - val_accuracy: 0.9897\n",
            "Epoch 12/50\n",
            "1875/1875 [==============================] - 5s 2ms/step - loss: 6.2843e-09 - accuracy: 1.0000 - val_loss: 0.1107 - val_accuracy: 0.9899\n",
            "Epoch 13/50\n",
            "1875/1875 [==============================] - 5s 2ms/step - loss: 3.3458e-09 - accuracy: 1.0000 - val_loss: 0.1129 - val_accuracy: 0.9902\n",
            "Epoch 14/50\n",
            "1875/1875 [==============================] - 5s 3ms/step - loss: 1.9332e-09 - accuracy: 1.0000 - val_loss: 0.1154 - val_accuracy: 0.9903\n",
            "Epoch 15/50\n",
            "1875/1875 [==============================] - 5s 3ms/step - loss: 1.1464e-09 - accuracy: 1.0000 - val_loss: 0.1188 - val_accuracy: 0.9902\n",
            "Epoch 16/50\n",
            "1875/1875 [==============================] - 5s 3ms/step - loss: 7.1526e-10 - accuracy: 1.0000 - val_loss: 0.1197 - val_accuracy: 0.9902\n",
            "Epoch 17/50\n",
            "1875/1875 [==============================] - 5s 3ms/step - loss: 5.3644e-10 - accuracy: 1.0000 - val_loss: 0.1207 - val_accuracy: 0.9904\n",
            "Epoch 18/50\n",
            "1875/1875 [==============================] - 5s 3ms/step - loss: 3.6160e-10 - accuracy: 1.0000 - val_loss: 0.1222 - val_accuracy: 0.9902\n",
            "Epoch 19/50\n",
            "1875/1875 [==============================] - 5s 3ms/step - loss: 2.7418e-10 - accuracy: 1.0000 - val_loss: 0.1223 - val_accuracy: 0.9901\n",
            "Epoch 20/50\n",
            "1875/1875 [==============================] - 5s 3ms/step - loss: 2.4041e-10 - accuracy: 1.0000 - val_loss: 0.1236 - val_accuracy: 0.9902\n",
            "Epoch 21/50\n",
            "1875/1875 [==============================] - 5s 3ms/step - loss: 1.8477e-10 - accuracy: 1.0000 - val_loss: 0.1242 - val_accuracy: 0.9901\n",
            "Epoch 22/50\n",
            "1875/1875 [==============================] - 5s 2ms/step - loss: 1.6491e-10 - accuracy: 1.0000 - val_loss: 0.1241 - val_accuracy: 0.9901\n",
            "Epoch 23/50\n",
            "1875/1875 [==============================] - 5s 3ms/step - loss: 1.3510e-10 - accuracy: 1.0000 - val_loss: 0.1239 - val_accuracy: 0.9902\n",
            "Epoch 24/50\n",
            "1875/1875 [==============================] - 5s 3ms/step - loss: 1.1921e-10 - accuracy: 1.0000 - val_loss: 0.1245 - val_accuracy: 0.9902\n",
            "Epoch 25/50\n",
            "1875/1875 [==============================] - 5s 2ms/step - loss: 1.0729e-10 - accuracy: 1.0000 - val_loss: 0.1246 - val_accuracy: 0.9901\n",
            "Epoch 26/50\n",
            "1875/1875 [==============================] - 5s 2ms/step - loss: 1.0530e-10 - accuracy: 1.0000 - val_loss: 0.1241 - val_accuracy: 0.9902\n",
            "Epoch 27/50\n",
            "1875/1875 [==============================] - 5s 3ms/step - loss: 9.5367e-11 - accuracy: 1.0000 - val_loss: 0.1249 - val_accuracy: 0.9901\n",
            "Epoch 28/50\n",
            "1875/1875 [==============================] - 5s 3ms/step - loss: 7.9473e-11 - accuracy: 1.0000 - val_loss: 0.1241 - val_accuracy: 0.9900\n",
            "Epoch 29/50\n",
            "1875/1875 [==============================] - 5s 3ms/step - loss: 8.5433e-11 - accuracy: 1.0000 - val_loss: 0.1244 - val_accuracy: 0.9901\n",
            "Epoch 30/50\n",
            "1875/1875 [==============================] - 5s 3ms/step - loss: 6.5565e-11 - accuracy: 1.0000 - val_loss: 0.1244 - val_accuracy: 0.9901\n",
            "Epoch 31/50\n",
            "1875/1875 [==============================] - 5s 3ms/step - loss: 7.3512e-11 - accuracy: 1.0000 - val_loss: 0.1246 - val_accuracy: 0.9900\n",
            "Epoch 32/50\n",
            "1875/1875 [==============================] - 5s 2ms/step - loss: 5.9605e-11 - accuracy: 1.0000 - val_loss: 0.1248 - val_accuracy: 0.9901\n",
            "Epoch 33/50\n",
            "1875/1875 [==============================] - 5s 2ms/step - loss: 6.3578e-11 - accuracy: 1.0000 - val_loss: 0.1250 - val_accuracy: 0.9899\n",
            "Epoch 34/50\n",
            "1875/1875 [==============================] - 5s 2ms/step - loss: 5.5631e-11 - accuracy: 1.0000 - val_loss: 0.1249 - val_accuracy: 0.9900\n",
            "Epoch 35/50\n",
            "1875/1875 [==============================] - 5s 3ms/step - loss: 4.9671e-11 - accuracy: 1.0000 - val_loss: 0.1254 - val_accuracy: 0.9900\n",
            "Epoch 36/50\n",
            "1875/1875 [==============================] - 5s 3ms/step - loss: 6.3578e-11 - accuracy: 1.0000 - val_loss: 0.1255 - val_accuracy: 0.9900\n",
            "Epoch 37/50\n",
            "1875/1875 [==============================] - 5s 3ms/step - loss: 4.7684e-11 - accuracy: 1.0000 - val_loss: 0.1257 - val_accuracy: 0.9899\n",
            "Epoch 38/50\n",
            "1875/1875 [==============================] - 5s 3ms/step - loss: 5.1657e-11 - accuracy: 1.0000 - val_loss: 0.1258 - val_accuracy: 0.9899\n",
            "Epoch 39/50\n",
            "1875/1875 [==============================] - 5s 3ms/step - loss: 4.3710e-11 - accuracy: 1.0000 - val_loss: 0.1261 - val_accuracy: 0.9898\n",
            "Epoch 40/50\n",
            "1875/1875 [==============================] - 5s 3ms/step - loss: 3.9736e-11 - accuracy: 1.0000 - val_loss: 0.1260 - val_accuracy: 0.9899\n",
            "Epoch 41/50\n",
            "1875/1875 [==============================] - 5s 3ms/step - loss: 4.3710e-11 - accuracy: 1.0000 - val_loss: 0.1258 - val_accuracy: 0.9898\n",
            "Epoch 42/50\n",
            "1875/1875 [==============================] - 5s 3ms/step - loss: 3.5763e-11 - accuracy: 1.0000 - val_loss: 0.1262 - val_accuracy: 0.9898\n",
            "Epoch 43/50\n",
            "1875/1875 [==============================] - 5s 3ms/step - loss: 2.7815e-11 - accuracy: 1.0000 - val_loss: 0.1266 - val_accuracy: 0.9899\n",
            "Epoch 44/50\n",
            "1875/1875 [==============================] - 5s 2ms/step - loss: 3.1789e-11 - accuracy: 1.0000 - val_loss: 0.1268 - val_accuracy: 0.9898\n",
            "Epoch 45/50\n",
            "1875/1875 [==============================] - 5s 3ms/step - loss: 3.5763e-11 - accuracy: 1.0000 - val_loss: 0.1266 - val_accuracy: 0.9898\n",
            "Epoch 46/50\n",
            "1875/1875 [==============================] - 5s 2ms/step - loss: 3.3776e-11 - accuracy: 1.0000 - val_loss: 0.1271 - val_accuracy: 0.9898\n",
            "Epoch 47/50\n",
            "1875/1875 [==============================] - 5s 3ms/step - loss: 3.1789e-11 - accuracy: 1.0000 - val_loss: 0.1272 - val_accuracy: 0.9897\n",
            "Epoch 48/50\n",
            "1875/1875 [==============================] - 5s 3ms/step - loss: 3.1789e-11 - accuracy: 1.0000 - val_loss: 0.1279 - val_accuracy: 0.9898\n",
            "Epoch 49/50\n",
            "1875/1875 [==============================] - 5s 3ms/step - loss: 2.7815e-11 - accuracy: 1.0000 - val_loss: 0.1280 - val_accuracy: 0.9898\n",
            "Epoch 50/50\n",
            "1875/1875 [==============================] - 5s 3ms/step - loss: 2.5829e-11 - accuracy: 1.0000 - val_loss: 0.1281 - val_accuracy: 0.9897\n"
          ],
          "name": "stdout"
        },
        {
          "output_type": "execute_result",
          "data": {
            "text/plain": [
              "<tensorflow.python.keras.callbacks.History at 0x7fa1336bcef0>"
            ]
          },
          "metadata": {
            "tags": []
          },
          "execution_count": 48
        }
      ]
    },
    {
      "cell_type": "code",
      "metadata": {
        "id": "PYlyIdcoeuD9"
      },
      "source": [
        ""
      ],
      "execution_count": null,
      "outputs": []
    }
  ]
}