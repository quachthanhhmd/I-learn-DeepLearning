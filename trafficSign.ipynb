{
  "nbformat": 4,
  "nbformat_minor": 0,
  "metadata": {
    "colab": {
      "name": "trafficSign.ipynb",
      "provenance": [],
      "collapsed_sections": [],
      "authorship_tag": "ABX9TyM9K/P6B4qvjQkLuhtMDfUh",
      "include_colab_link": true
    },
    "kernelspec": {
      "name": "python3",
      "display_name": "Python 3"
    },
    "accelerator": "GPU"
  },
  "cells": [
    {
      "cell_type": "markdown",
      "metadata": {
        "id": "view-in-github",
        "colab_type": "text"
      },
      "source": [
        "<a href=\"https://colab.research.google.com/github/quachthanhhmd/I-learn-DeepLearning/blob/main/trafficSign.ipynb\" target=\"_parent\"><img src=\"https://colab.research.google.com/assets/colab-badge.svg\" alt=\"Open In Colab\"/></a>"
      ]
    },
    {
      "cell_type": "code",
      "metadata": {
        "id": "clU4WpVR8OBB"
      },
      "source": [
        "import tensorflow as tf"
      ],
      "execution_count": 1,
      "outputs": []
    },
    {
      "cell_type": "code",
      "metadata": {
        "id": "aC7HuXi58jBi",
        "outputId": "68500a67-f28f-4176-dd28-a8da230a7eaa",
        "colab": {
          "base_uri": "https://localhost:8080/"
        }
      },
      "source": [
        "from google.colab import drive\n",
        "drive.mount('/content/drive')"
      ],
      "execution_count": 2,
      "outputs": [
        {
          "output_type": "stream",
          "text": [
            "Mounted at /content/drive\n"
          ],
          "name": "stdout"
        }
      ]
    },
    {
      "cell_type": "code",
      "metadata": {
        "id": "ElwvojVU-Cvb",
        "outputId": "db2404db-0fe3-43d5-f881-d356ccdaf689",
        "colab": {
          "base_uri": "https://localhost:8080/"
        }
      },
      "source": [
        "cd /content/drive/My Drive/ML/data"
      ],
      "execution_count": 13,
      "outputs": [
        {
          "output_type": "stream",
          "text": [
            "/content/drive/My Drive/ML/data\n"
          ],
          "name": "stdout"
        }
      ]
    },
    {
      "cell_type": "code",
      "metadata": {
        "id": "9Jhl041s-dRZ"
      },
      "source": [
        "link = 'https://d17h27t6h515a5.cloudfront.net/topher/2017/February/5898cd6f_traffic-signs-data/traffic-signs-data.zip'"
      ],
      "execution_count": null,
      "outputs": []
    },
    {
      "cell_type": "code",
      "metadata": {
        "id": "jP0ACmoF-vo_",
        "outputId": "9fa652e1-75ba-42e3-83be-78c420f48ad2",
        "colab": {
          "base_uri": "https://localhost:8080/",
          "height": 190
        }
      },
      "source": [
        "!pip install wget"
      ],
      "execution_count": null,
      "outputs": [
        {
          "output_type": "stream",
          "text": [
            "Collecting wget\n",
            "  Downloading https://files.pythonhosted.org/packages/47/6a/62e288da7bcda82b935ff0c6cfe542970f04e29c756b0e147251b2fb251f/wget-3.2.zip\n",
            "Building wheels for collected packages: wget\n",
            "  Building wheel for wget (setup.py) ... \u001b[?25l\u001b[?25hdone\n",
            "  Created wheel for wget: filename=wget-3.2-cp36-none-any.whl size=9682 sha256=6a24522d40d8afdb229d00aab3b69c46973d9052a38c69bfa34d8bfb1f4736fb\n",
            "  Stored in directory: /root/.cache/pip/wheels/40/15/30/7d8f7cea2902b4db79e3fea550d7d7b85ecb27ef992b618f3f\n",
            "Successfully built wget\n",
            "Installing collected packages: wget\n",
            "Successfully installed wget-3.2\n"
          ],
          "name": "stdout"
        }
      ]
    },
    {
      "cell_type": "code",
      "metadata": {
        "id": "t8JUMNiC_2xg",
        "outputId": "34879606-c89b-4b1e-e09d-63925bbabe59",
        "colab": {
          "base_uri": "https://localhost:8080/",
          "height": 35
        }
      },
      "source": [
        "import wget\n",
        "wget.download(link)"
      ],
      "execution_count": null,
      "outputs": [
        {
          "output_type": "execute_result",
          "data": {
            "application/vnd.google.colaboratory.intrinsic+json": {
              "type": "string"
            },
            "text/plain": [
              "'traffic-signs-data.zip'"
            ]
          },
          "metadata": {
            "tags": []
          },
          "execution_count": 12
        }
      ]
    },
    {
      "cell_type": "code",
      "metadata": {
        "id": "QES6zH7EAE5T",
        "outputId": "68ece288-92ad-4a4a-fa1b-f3ab4afb2b77",
        "colab": {
          "base_uri": "https://localhost:8080/"
        }
      },
      "source": [
        "\n",
        "!unzip -q traffic-signs-data.zip -d $data"
      ],
      "execution_count": null,
      "outputs": [
        {
          "output_type": "stream",
          "text": [
            "replace ./test.p? [y]es, [n]o, [A]ll, [N]one, [r]ename: n\n",
            "replace ./train.p? [y]es, [n]o, [A]ll, [N]one, [r]ename: n\n",
            "replace ./valid.p? [y]es, [n]o, [A]ll, [N]one, [r]ename: n\n"
          ],
          "name": "stdout"
        }
      ]
    },
    {
      "cell_type": "code",
      "metadata": {
        "id": "oglEwNS3Aer7"
      },
      "source": [
        "#link of data\n",
        "data = './'\n",
        "train_link = data + 'train.p'\n",
        "test_link = data + 'test.p'\n",
        "valid_link = data + 'valid.p'"
      ],
      "execution_count": 14,
      "outputs": []
    },
    {
      "cell_type": "code",
      "metadata": {
        "id": "U9f_52XFYpoM"
      },
      "source": [
        "import pickle"
      ],
      "execution_count": 16,
      "outputs": []
    },
    {
      "cell_type": "code",
      "metadata": {
        "id": "PETRYK-IY8DW"
      },
      "source": [
        "with open(train_link, mode = 'rb') as f:\n",
        "  train = pickle.load(f)\n",
        "\n",
        "with open(test_link, mode = 'rb') as f:\n",
        "  test = pickle.load(f)\n",
        "\n",
        "with open(valid_link, mode = 'rb') as f:\n",
        "  valid = pickle.load(f)\n"
      ],
      "execution_count": 17,
      "outputs": []
    },
    {
      "cell_type": "code",
      "metadata": {
        "id": "n7kg1JwxZp2-"
      },
      "source": [
        "X_train = train['features']\n",
        "y_train = train['labels']\n",
        "\n",
        "X_valid = valid['features']\n",
        "y_valid = valid['labels']\n",
        "\n",
        "X_test = test['features']\n",
        "y_test = test['labels']"
      ],
      "execution_count": 18,
      "outputs": []
    },
    {
      "cell_type": "code",
      "metadata": {
        "id": "WB5qH0oFaG-8",
        "outputId": "95a6179f-974c-4e3a-b556-2163dd24dda8",
        "colab": {
          "base_uri": "https://localhost:8080/"
        }
      },
      "source": [
        "y_train.shape"
      ],
      "execution_count": 19,
      "outputs": [
        {
          "output_type": "execute_result",
          "data": {
            "text/plain": [
              "(34799,)"
            ]
          },
          "metadata": {
            "tags": []
          },
          "execution_count": 19
        }
      ]
    },
    {
      "cell_type": "code",
      "metadata": {
        "id": "al42Qd-wbXSk",
        "outputId": "13721cad-a473-492b-a5e4-1f0f5db311f9",
        "colab": {
          "base_uri": "https://localhost:8080/",
          "height": 283
        }
      },
      "source": [
        "import matplotlib.pyplot as plt\n",
        "plt.imshow(X_train[14213])\n"
      ],
      "execution_count": 20,
      "outputs": [
        {
          "output_type": "execute_result",
          "data": {
            "text/plain": [
              "<matplotlib.image.AxesImage at 0x7f7eb2291208>"
            ]
          },
          "metadata": {
            "tags": []
          },
          "execution_count": 20
        },
        {
          "output_type": "display_data",
          "data": {
            "image/png": "[encoded data removed]",
            "text/plain": [
              "<Figure size 432x288 with 1 Axes>"
            ]
          },
          "metadata": {
            "tags": [],
            "needs_background": "light"
          }
        }
      ]
    },
    {
      "cell_type": "code",
      "metadata": {
        "id": "Rzd3pJiOccJz"
      },
      "source": [
        "classNames = {0: 'Speed limit (20km/h)',\n",
        " 1: 'Speed limit (30km/h)',\n",
        " 2: 'Speed limit (50km/h)',\n",
        " 3: 'Speed limit (60km/h)',\n",
        " 4: 'Speed limit (70km/h)',\n",
        " 5: 'Speed limit (80km/h)',\n",
        " 6: 'End of speed limit (80km/h)',\n",
        " 7: 'Speed limit (100km/h)',\n",
        " 8: 'Speed limit (120km/h)',\n",
        " 9: 'No passing',\n",
        " 10: 'No passing for vehicles over 3.5 metric tons',\n",
        " 11: 'Right-of-way at the next intersection',\n",
        " 12: 'Priority road',\n",
        " 13: 'Yield',\n",
        " 14: 'Stop',\n",
        " 15: 'No vehicles',\n",
        " 16: 'Vehicles over 3.5 metric tons prohibited',\n",
        " 17: 'No entry',\n",
        " 18: 'General caution',\n",
        " 19: 'Dangerous curve to the left',\n",
        " 20: 'Dangerous curve to the right',\n",
        " 21: 'Double curve',\n",
        " 22: 'Bumpy road',\n",
        " 23: 'Slippery road',\n",
        " 24: 'Road narrows on the right',\n",
        " 25: 'Road work',\n",
        " 26: 'Traffic signals',\n",
        " 27: 'Pedestrians',\n",
        " 28: 'Children crossing',\n",
        " 29: 'Bicycles crossing',\n",
        " 30: 'Beware of ice/snow',\n",
        " 31: 'Wild animals crossing',\n",
        " 32: 'End of all speed and passing limits',\n",
        " 33: 'Turn right ahead',\n",
        " 34: 'Turn left ahead',\n",
        " 35: 'Ahead only',\n",
        " 36: 'Go straight or right',\n",
        " 37: 'Go straight or left',\n",
        " 38: 'Keep right',\n",
        " 39: 'Keep left',\n",
        " 40: 'Roundabout mandatory',\n",
        " 41: 'End of no passing',\n",
        " 42: 'End of no passing by vehicles over 3.5 metric tons'}\n",
        "\n"
      ],
      "execution_count": 21,
      "outputs": []
    },
    {
      "cell_type": "code",
      "metadata": {
        "id": "hPJYXQ2gdYlZ"
      },
      "source": [
        "#trao nhan di kem de bao dam tinh tong quat cua du lieu\n",
        "from sklearn.utils import shuffle\n",
        "X_train, y_train = shuffle(X_train, y_train)"
      ],
      "execution_count": 22,
      "outputs": []
    },
    {
      "cell_type": "code",
      "metadata": {
        "id": "fEmYRUCkdx3s"
      },
      "source": [
        "X_train = X_train.astype('float') / 255.0\n",
        "X_valid = X_valid.astype('float') / 255.0\n",
        "X_test = X_test.astype('float') / 255.0\n"
      ],
      "execution_count": 23,
      "outputs": []
    },
    {
      "cell_type": "code",
      "metadata": {
        "id": "xz93g7qme3kS"
      },
      "source": [
        "from sklearn.preprocessing import LabelBinarizer"
      ],
      "execution_count": 24,
      "outputs": []
    },
    {
      "cell_type": "code",
      "metadata": {
        "id": "o_OhKZX5e9Oz"
      },
      "source": [
        "lb = LabelBinarizer()"
      ],
      "execution_count": 25,
      "outputs": []
    },
    {
      "cell_type": "code",
      "metadata": {
        "id": "_ZORvD-ofG1x"
      },
      "source": [
        "y_train = lb.fit_transform(y_train)\n",
        "y_valid = lb.fit_transform(y_valid)\n",
        "y_test = lb.fit_transform(y_test)\n",
        "\n"
      ],
      "execution_count": 26,
      "outputs": []
    },
    {
      "cell_type": "code",
      "metadata": {
        "id": "3C-c4kuXfTMD",
        "outputId": "58c58de3-424e-4e5b-e798-91033101806c",
        "colab": {
          "base_uri": "https://localhost:8080/"
        }
      },
      "source": [
        "y_valid[0]"
      ],
      "execution_count": 27,
      "outputs": [
        {
          "output_type": "execute_result",
          "data": {
            "text/plain": [
              "array([0, 0, 0, 0, 0, 0, 0, 0, 0, 0, 0, 0, 0, 0, 0, 0, 0, 0, 0, 0, 0, 0,\n",
              "       0, 0, 0, 0, 0, 0, 0, 0, 0, 0, 0, 0, 0, 0, 0, 0, 0, 0, 0, 1, 0])"
            ]
          },
          "metadata": {
            "tags": []
          },
          "execution_count": 27
        }
      ]
    },
    {
      "cell_type": "code",
      "metadata": {
        "id": "d7PXv_9FfYRr"
      },
      "source": [
        "from tensorflow.keras.models import Sequential, Model\n",
        "from tensorflow.keras.layers import BatchNormalization, AveragePooling2D, MaxPooling2D, Conv2D, Activation, Dropout, Flatten, Input, Dense, concatenate\n",
        "from tensorflow.keras.preprocessing.image import ImageDataGenerator\n",
        "from tensorflow.keras.optimizers import SGD"
      ],
      "execution_count": 28,
      "outputs": []
    },
    {
      "cell_type": "code",
      "metadata": {
        "id": "jMKsvn3zgFTd"
      },
      "source": [
        "model = Sequential()"
      ],
      "execution_count": 66,
      "outputs": []
    },
    {
      "cell_type": "code",
      "metadata": {
        "id": "Q_RDzimUgJO-"
      },
      "source": [
        "width = 32\n",
        "height = 32\n",
        "classes = len(classNames)\n",
        "shape = (width, height, 3)"
      ],
      "execution_count": 67,
      "outputs": []
    },
    {
      "cell_type": "code",
      "metadata": {
        "id": "-ZNZB1ocgVTF"
      },
      "source": [
        "model.add(Conv2D(32, (3, 3), padding = 'same', input_shape = shape))\n",
        "model.add(Activation('relu'))\n",
        "model.add(BatchNormalization())"
      ],
      "execution_count": 68,
      "outputs": []
    },
    {
      "cell_type": "code",
      "metadata": {
        "id": "_1KYvGIXyUpe"
      },
      "source": [
        "model.add(Conv2D(32, (3, 3), padding = 'same'))\n",
        "model.add(Activation('relu'))\n",
        "model.add(BatchNormalization())"
      ],
      "execution_count": 69,
      "outputs": []
    },
    {
      "cell_type": "code",
      "metadata": {
        "id": "mqlcjxB2ygx0"
      },
      "source": [
        "model.add(MaxPooling2D(2,2))"
      ],
      "execution_count": 70,
      "outputs": []
    },
    {
      "cell_type": "code",
      "metadata": {
        "id": "ux-BXNak0HmB"
      },
      "source": [
        "model.add(Conv2D(64, (3, 3), padding = 'same'))\n",
        "model.add(Activation('relu'))\n",
        "model.add(BatchNormalization())\n",
        "\n",
        "model.add(Conv2D(64, (3, 3), padding = 'same'))\n",
        "model.add(Activation('relu'))\n",
        "model.add(BatchNormalization())\n",
        "model.add(MaxPooling2D(2,2))"
      ],
      "execution_count": 71,
      "outputs": []
    },
    {
      "cell_type": "code",
      "metadata": {
        "id": "zAiGX5ZW0pqR"
      },
      "source": [
        "model.add(Flatten())"
      ],
      "execution_count": 72,
      "outputs": []
    },
    {
      "cell_type": "code",
      "metadata": {
        "id": "hKCPbKVO0py1"
      },
      "source": [
        "model.add(Dense(512))\n",
        "model.add(Activation('relu'))\n",
        "model.add(BatchNormalization())"
      ],
      "execution_count": 73,
      "outputs": []
    },
    {
      "cell_type": "code",
      "metadata": {
        "id": "Wo4fXrZo1aw6"
      },
      "source": [
        "model.add(Dense(classes))\n",
        "model.add(Activation('softmax'))"
      ],
      "execution_count": 74,
      "outputs": []
    },
    {
      "cell_type": "code",
      "metadata": {
        "id": "WoXlsupxwwqw",
        "outputId": "d2aaa47b-ae4e-44e0-bc57-cd02553f59fb",
        "colab": {
          "base_uri": "https://localhost:8080/"
        }
      },
      "source": [
        "model.summary()"
      ],
      "execution_count": 75,
      "outputs": [
        {
          "output_type": "stream",
          "text": [
            "Model: \"sequential_3\"\n",
            "_________________________________________________________________\n",
            "Layer (type)                 Output Shape              Param #   \n",
            "=================================================================\n",
            "conv2d_10 (Conv2D)           (None, 32, 32, 32)        896       \n",
            "_________________________________________________________________\n",
            "activation_7 (Activation)    (None, 32, 32, 32)        0         \n",
            "_________________________________________________________________\n",
            "batch_normalization_5 (Batch (None, 32, 32, 32)        128       \n",
            "_________________________________________________________________\n",
            "conv2d_11 (Conv2D)           (None, 32, 32, 32)        9248      \n",
            "_________________________________________________________________\n",
            "activation_8 (Activation)    (None, 32, 32, 32)        0         \n",
            "_________________________________________________________________\n",
            "batch_normalization_6 (Batch (None, 32, 32, 32)        128       \n",
            "_________________________________________________________________\n",
            "max_pooling2d_2 (MaxPooling2 (None, 16, 16, 32)        0         \n",
            "_________________________________________________________________\n",
            "conv2d_12 (Conv2D)           (None, 16, 16, 64)        18496     \n",
            "_________________________________________________________________\n",
            "activation_9 (Activation)    (None, 16, 16, 64)        0         \n",
            "_________________________________________________________________\n",
            "batch_normalization_7 (Batch (None, 16, 16, 64)        256       \n",
            "_________________________________________________________________\n",
            "conv2d_13 (Conv2D)           (None, 16, 16, 64)        36928     \n",
            "_________________________________________________________________\n",
            "activation_10 (Activation)   (None, 16, 16, 64)        0         \n",
            "_________________________________________________________________\n",
            "batch_normalization_8 (Batch (None, 16, 16, 64)        256       \n",
            "_________________________________________________________________\n",
            "max_pooling2d_3 (MaxPooling2 (None, 8, 8, 64)          0         \n",
            "_________________________________________________________________\n",
            "flatten_1 (Flatten)          (None, 4096)              0         \n",
            "_________________________________________________________________\n",
            "dense_2 (Dense)              (None, 512)               2097664   \n",
            "_________________________________________________________________\n",
            "activation_11 (Activation)   (None, 512)               0         \n",
            "_________________________________________________________________\n",
            "batch_normalization_9 (Batch (None, 512)               2048      \n",
            "_________________________________________________________________\n",
            "dense_3 (Dense)              (None, 43)                22059     \n",
            "_________________________________________________________________\n",
            "activation_12 (Activation)   (None, 43)                0         \n",
            "=================================================================\n",
            "Total params: 2,188,107\n",
            "Trainable params: 2,186,699\n",
            "Non-trainable params: 1,408\n",
            "_________________________________________________________________\n"
          ],
          "name": "stdout"
        }
      ]
    },
    {
      "cell_type": "code",
      "metadata": {
        "id": "D-rTNVNlw_tr"
      },
      "source": [
        "arg = ImageDataGenerator(rotation_range= 0.18, zoom_range= 0.15, width_shift_range=0.2, horizontal_flip=True)"
      ],
      "execution_count": 76,
      "outputs": []
    },
    {
      "cell_type": "code",
      "metadata": {
        "id": "OeztsDaA2W2F"
      },
      "source": [
        "learning_rate = 0.01\n",
        "epochs = 10\n",
        "batch_size = 64"
      ],
      "execution_count": 79,
      "outputs": []
    },
    {
      "cell_type": "code",
      "metadata": {
        "id": "dqyXNXr-2q-r"
      },
      "source": [
        "opt = SGD(learning_rate=learning_rate, momentum= 0.9)"
      ],
      "execution_count": 80,
      "outputs": []
    },
    {
      "cell_type": "code",
      "metadata": {
        "id": "aD18kdYf3QOJ"
      },
      "source": [
        "model.compile(optimizer= opt, loss= 'categorical_crossentropy', metrics=['accuracy'])"
      ],
      "execution_count": 87,
      "outputs": []
    },
    {
      "cell_type": "code",
      "metadata": {
        "id": "gBczafkG4qwN",
        "outputId": "79770380-8942-44be-d8bf-19f931c4d5a3",
        "colab": {
          "base_uri": "https://localhost:8080/"
        }
      },
      "source": [
        "y_train.shape"
      ],
      "execution_count": 88,
      "outputs": [
        {
          "output_type": "execute_result",
          "data": {
            "text/plain": [
              "(34799, 43)"
            ]
          },
          "metadata": {
            "tags": []
          },
          "execution_count": 88
        }
      ]
    },
    {
      "cell_type": "code",
      "metadata": {
        "id": "aW8I5d_y3jgg",
        "outputId": "3ae03b04-e50a-425e-9849-10f866d3151b",
        "colab": {
          "base_uri": "https://localhost:8080/"
        }
      },
      "source": [
        "h = model.fit_generator(arg.flow(X_train, y_train, batch_size= batch_size), validation_data= (X_valid, y_valid), steps_per_epoch= X_train.shape[0]//batch_size, epochs=epochs, verbose=1)"
      ],
      "execution_count": 89,
      "outputs": [
        {
          "output_type": "stream",
          "text": [
            "Epoch 1/10\n",
            "543/543 [==============================] - 26s 48ms/step - loss: 0.9157 - accuracy: 0.7313 - val_loss: 0.7466 - val_accuracy: 0.7549\n",
            "Epoch 2/10\n",
            "543/543 [==============================] - 26s 47ms/step - loss: 0.2342 - accuracy: 0.9262 - val_loss: 0.5041 - val_accuracy: 0.8399\n",
            "Epoch 3/10\n",
            "543/543 [==============================] - 26s 47ms/step - loss: 0.1340 - accuracy: 0.9587 - val_loss: 0.5074 - val_accuracy: 0.8444\n",
            "Epoch 4/10\n",
            "543/543 [==============================] - 26s 47ms/step - loss: 0.0959 - accuracy: 0.9716 - val_loss: 0.4986 - val_accuracy: 0.8553\n",
            "Epoch 5/10\n",
            "543/543 [==============================] - 26s 48ms/step - loss: 0.0707 - accuracy: 0.9796 - val_loss: 0.5690 - val_accuracy: 0.8420\n",
            "Epoch 6/10\n",
            "543/543 [==============================] - 26s 47ms/step - loss: 0.0554 - accuracy: 0.9841 - val_loss: 0.4121 - val_accuracy: 0.8871\n",
            "Epoch 7/10\n",
            "543/543 [==============================] - 26s 47ms/step - loss: 0.0438 - accuracy: 0.9874 - val_loss: 0.5336 - val_accuracy: 0.8667\n",
            "Epoch 8/10\n",
            "543/543 [==============================] - 26s 48ms/step - loss: 0.0335 - accuracy: 0.9902 - val_loss: 0.4820 - val_accuracy: 0.8812\n",
            "Epoch 9/10\n",
            "543/543 [==============================] - 26s 47ms/step - loss: 0.0285 - accuracy: 0.9916 - val_loss: 0.4706 - val_accuracy: 0.8918\n",
            "Epoch 10/10\n",
            "543/543 [==============================] - 26s 48ms/step - loss: 0.0256 - accuracy: 0.9929 - val_loss: 0.5331 - val_accuracy: 0.8748\n"
          ],
          "name": "stdout"
        }
      ]
    },
    {
      "cell_type": "code",
      "metadata": {
        "id": "6jyAwqPz6QJg",
        "outputId": "2f9e2754-5670-4696-a079-565b492561d3",
        "colab": {
          "base_uri": "https://localhost:8080/"
        }
      },
      "source": [
        "X_test[90:91].shape"
      ],
      "execution_count": 119,
      "outputs": [
        {
          "output_type": "execute_result",
          "data": {
            "text/plain": [
              "(1, 32, 32, 3)"
            ]
          },
          "metadata": {
            "tags": []
          },
          "execution_count": 119
        }
      ]
    },
    {
      "cell_type": "code",
      "metadata": {
        "id": "xxgh4VE-59nA"
      },
      "source": [
        "res = model.predict(X_test[90:91])"
      ],
      "execution_count": 120,
      "outputs": []
    },
    {
      "cell_type": "code",
      "metadata": {
        "id": "qp4ofH4U57-E"
      },
      "source": [
        "import numpy as np\n"
      ],
      "execution_count": 109,
      "outputs": []
    },
    {
      "cell_type": "code",
      "metadata": {
        "id": "doP76zlk4LQN"
      },
      "source": [
        "final = np.argmax(res)\n",
        "final = classNames[final]"
      ],
      "execution_count": 121,
      "outputs": []
    },
    {
      "cell_type": "code",
      "metadata": {
        "id": "281PbTaW6fkf",
        "outputId": "807a71ec-27bc-496e-f0ce-1fcf10f67c3f",
        "colab": {
          "base_uri": "https://localhost:8080/",
          "height": 35
        }
      },
      "source": [
        "final"
      ],
      "execution_count": 122,
      "outputs": [
        {
          "output_type": "execute_result",
          "data": {
            "application/vnd.google.colaboratory.intrinsic+json": {
              "type": "string"
            },
            "text/plain": [
              "'Speed limit (60km/h)'"
            ]
          },
          "metadata": {
            "tags": []
          },
          "execution_count": 122
        }
      ]
    },
    {
      "cell_type": "code",
      "metadata": {
        "id": "EIDfwdba6ltr",
        "outputId": "7a31225e-e8aa-441e-950d-f13b9f757840",
        "colab": {
          "base_uri": "https://localhost:8080/",
          "height": 283
        }
      },
      "source": [
        "plt.imshow(X_test[90])"
      ],
      "execution_count": 123,
      "outputs": [
        {
          "output_type": "execute_result",
          "data": {
            "text/plain": [
              "<matplotlib.image.AxesImage at 0x7f7e4606f6d8>"
            ]
          },
          "metadata": {
            "tags": []
          },
          "execution_count": 123
        },
        {
          "output_type": "display_data",
          "data": {
            "image/png": "[encoded data removed]",
            "text/plain": [
              "<Figure size 432x288 with 1 Axes>"
            ]
          },
          "metadata": {
            "tags": [],
            "needs_background": "light"
          }
        }
      ]
    },
    {
      "cell_type": "code",
      "metadata": {
        "id": "WbcV4APT60sn"
      },
      "source": [
        ""
      ],
      "execution_count": null,
      "outputs": []
    }
  ]
}